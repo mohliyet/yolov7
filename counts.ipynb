{
 "cells": [
  {
   "cell_type": "code",
   "execution_count": 4,
   "metadata": {},
   "outputs": [
    {
     "name": "stdout",
     "output_type": "stream",
     "text": [
      "defaultdict(<class 'int'>, {0: 899, 1: 406, 2: 412, 3: 64})\n"
     ]
    }
   ],
   "source": [
    "import os\n",
    "from collections import defaultdict\n",
    "\n",
    "def count_objects_per_class(folder_path):\n",
    "    object_count = defaultdict(int)\n",
    "\n",
    "    for filename in os.listdir(folder_path):\n",
    "        if filename.endswith(\".txt\"):\n",
    "            with open(os.path.join(folder_path, filename), 'r') as f:\n",
    "                lines = f.readlines()\n",
    "                for line in lines:\n",
    "                    class_id = int(line.split()[0])\n",
    "                    object_count[class_id] += 1\n",
    "\n",
    "    return object_count\n",
    "\n",
    "folder_path = r\"C:\\Users\\M\\OneDrive - UGent\\TWML\\datasets\\sthsch_old\\Curated_Old_STHSCH\\AI4NTD\\test\\test\\labels\"  # Replace with your actual folder path\n",
    "result = count_objects_per_class(folder_path)\n",
    "print(result)"
   ]
  }
 ],
 "metadata": {
  "kernelspec": {
   "display_name": "Python 3",
   "language": "python",
   "name": "python3"
  },
  "language_info": {
   "codemirror_mode": {
    "name": "ipython",
    "version": 3
   },
   "file_extension": ".py",
   "mimetype": "text/x-python",
   "name": "python",
   "nbconvert_exporter": "python",
   "pygments_lexer": "ipython3",
   "version": "3.10.11"
  }
 },
 "nbformat": 4,
 "nbformat_minor": 2
}
