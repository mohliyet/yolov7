{
 "cells": [
  {
   "cell_type": "markdown",
   "metadata": {},
   "source": [
    "# YOLO to VOC_2007 - GT"
   ]
  },
  {
   "cell_type": "code",
   "execution_count": 1,
   "metadata": {},
   "outputs": [],
   "source": [
    "import os\n",
    "from PIL import Image\n",
    "\n",
    "def yolo_gt_to_voc_text(yolo_gt_folder, image_folder, voc_text_folder, classes):\n",
    "    if not os.path.exists(voc_text_folder):\n",
    "        os.makedirs(voc_text_folder)\n",
    "\n",
    "    for filename in os.listdir(yolo_gt_folder):\n",
    "        if filename.endswith(\".txt\"):\n",
    "            image_filename = filename.replace('.txt', '.jpg')\n",
    "            image_path = os.path.join(image_folder, image_filename)\n",
    "            \n",
    "            # Get the dimensions of the image\n",
    "            with Image.open(image_path) as img:\n",
    "                width, height = img.size\n",
    "\n",
    "            # Create VOC text file\n",
    "            voc_text_filename = os.path.join(voc_text_folder, filename)\n",
    "            \n",
    "            with open(os.path.join(yolo_gt_folder, filename), 'r') as yolo_file, \\\n",
    "                 open(voc_text_filename, 'w') as voc_text_file:\n",
    "                 \n",
    "                for line in yolo_file.readlines():\n",
    "                    parts = line.strip().split()\n",
    "                    label = classes[int(parts[0])]\n",
    "                    x, y, w, h = map(float, parts[1:5])\n",
    "\n",
    "                    # Convert YOLO bbox to VOC-like text format (class_name, xmin, ymin, xmax, ymax)\n",
    "                    xmin = int((x - w/2) * width)\n",
    "                    ymin = int((y - h/2) * height)\n",
    "                    xmax = int((x + w/2) * width)\n",
    "                    ymax = int((y + h/2) * height)\n",
    "                    \n",
    "                    voc_text_file.write(f\"{label} {xmin} {ymin} {xmax} {ymax}\\n\")\n",
    "\n",
    "# Classes list should match YOLO training\n",
    "classes = [\"ascaris\", \"trichuris\", \"hookworm\", 'schistosoma']\n",
    "# Folder paths\n",
    "# yolo_gt_folder = \"/project_ghent/August/curation/test/labels\"\n",
    "# image_folder = \"/project_ghent/August/curation/test/images\"\n",
    "# voc_text_folder = \"/project_ghent/August/voc_2007/GT_test\"\n",
    "\n",
    "yolo_gt_folder = r\"C:\\Users\\M\\OneDrive - UGent\\TWML\\datasets\\new_data_march\\data\\global\\group1\\renamed\\labels\"\n",
    "image_folder = r\"C:\\Users\\M\\OneDrive - UGent\\TWML\\datasets\\new_data_march\\data\\global\\group1\\renamed\\images\"\n",
    "voc_text_folder = \"TIDE/GT_Test_01\"\n",
    "\n",
    "# /project_ghent/June/ablation_study/test_new\n",
    "\n",
    "# Perform conversion\n",
    "yolo_gt_to_voc_text(yolo_gt_folder, image_folder, voc_text_folder, classes)"
   ]
  },
  {
   "cell_type": "markdown",
   "metadata": {},
   "source": [
    "# YOLO to VOC_2007 - Prediction"
   ]
  },
  {
   "cell_type": "code",
   "execution_count": 5,
   "metadata": {},
   "outputs": [],
   "source": [
    "import os\n",
    "from PIL import Image\n",
    "\n",
    "def yolo_pred_to_voc_text(yolo_pred_folder, image_folder, voc_text_folder, classes):\n",
    "    if not os.path.exists(voc_text_folder):\n",
    "        os.makedirs(voc_text_folder)\n",
    "\n",
    "    for filename in os.listdir(yolo_pred_folder):\n",
    "        if filename.endswith(\".txt\"):\n",
    "            image_filename = filename.replace('.txt', '.jpg')\n",
    "            image_path = os.path.join(image_folder, image_filename)\n",
    "            \n",
    "            # Get the dimensions of the image\n",
    "            with Image.open(image_path) as img:\n",
    "                width, height = img.size\n",
    "\n",
    "            # Create VOC text file\n",
    "            voc_text_filename = os.path.join(voc_text_folder, filename)\n",
    "            \n",
    "            with open(os.path.join(yolo_pred_folder, filename), 'r') as yolo_file, \\\n",
    "                 open(voc_text_filename, 'w') as voc_text_file:\n",
    "                 \n",
    "                for line in yolo_file.readlines():\n",
    "                    parts = line.strip().split()\n",
    "                    label = classes[int(parts[0])]\n",
    "                    x, y, w, h = map(float, parts[1:5])\n",
    "                    confidence = float(parts[5])\n",
    "\n",
    "                    # Convert YOLO bbox to VOC-like text format (class_name, confidence, xmin, ymin, xmax, ymax)\n",
    "                    xmin = int((x - w/2) * width)\n",
    "                    ymin = int((y - h/2) * height)\n",
    "                    xmax = int((x + w/2) * width)\n",
    "                    ymax = int((y + h/2) * height)\n",
    "                    \n",
    "                    voc_text_file.write(f\"{label} {confidence} {xmin} {ymin} {xmax} {ymax}\\n\")\n",
    "\n",
    "# Classes list should match YOLO training\n",
    "classes = [\"ascaris\", \"trichuris\", \"hookworm\",'schistosoma']\n",
    "# Folder paths\n",
    "# yolo_pred_folder = \"/project_ghent/August/yolov7/runs/detect/TIDE/TIDE_balanced_test/labels\"\n",
    "# image_folder = \"/project_ghent/August/curation/test/images\"\n",
    "# voc_text_folder = \"/project_ghent/August/voc_2007/Pred_Balanced_test\"\n",
    "\n",
    "yolo_pred_folder = r\"C:\\Users\\M\\OneDrive - UGent\\TWML\\yolov7\\runs\\detect\\test_0001\\labels\"\n",
    "image_folder = r\"C:\\Users\\M\\OneDrive - UGent\\TWML\\datasets\\new_data_march\\data\\global\\group1\\renamed\\images\"\n",
    "voc_text_folder = \"TIDE/Pred_Test_0001\"\n",
    "\n",
    "# /project_ghent/June/ablation_study/test_new\n",
    "\n",
    "# Perform conversion\n",
    "yolo_pred_to_voc_text(yolo_pred_folder, image_folder, voc_text_folder, classes)"
   ]
  },
  {
   "cell_type": "markdown",
   "metadata": {},
   "source": [
    "# File list"
   ]
  },
  {
   "cell_type": "code",
   "execution_count": 3,
   "metadata": {},
   "outputs": [
    {
     "name": "stdout",
     "output_type": "stream",
     "text": [
      "File list saved to TIDE/Test_List.txt\n"
     ]
    }
   ],
   "source": [
    "import os\n",
    "\n",
    "def list_files_in_folder(folder_path, output_file):\n",
    "    with open(output_file, 'w') as f:\n",
    "        for filename in os.listdir(folder_path):\n",
    "            name, extension = os.path.splitext(filename)\n",
    "            f.write(name + '\\n')\n",
    "\n",
    "# Specify the folder path\n",
    "folder_path = r\"C:\\Users\\M\\OneDrive - UGent\\TWML\\yolov7\\TIDE\\GT_Test_01\"\n",
    "\n",
    "# Specify the output file name\n",
    "output_file = 'TIDE/Test_List.txt'\n",
    "\n",
    "# Call the function to list files and write to the text file\n",
    "list_files_in_folder(folder_path, output_file)\n",
    "\n",
    "print(\"File list saved to\", output_file)\n"
   ]
  },
  {
   "cell_type": "markdown",
   "metadata": {},
   "source": [
    "# Empty Replacement"
   ]
  },
  {
   "cell_type": "code",
   "execution_count": 6,
   "metadata": {},
   "outputs": [
    {
     "name": "stdout",
     "output_type": "stream",
     "text": [
      "Comparison and empty file creation complete.\n"
     ]
    }
   ],
   "source": [
    "import os\n",
    "\n",
    "def compare_and_create_empty_files(folder1, folder2):\n",
    "    # Get the list of files in each folder\n",
    "    files1 = set(os.listdir(folder1))\n",
    "    files2 = set(os.listdir(folder2))\n",
    "    \n",
    "    # Find the files present in folder1 but not in folder2\n",
    "    diff_files = files1 - files2\n",
    "    \n",
    "    # Create empty files in folder2 for the different files\n",
    "    for file in diff_files:\n",
    "        with open(os.path.join(folder2, file), 'w'):\n",
    "            pass\n",
    "        print(\"Created empty file:\", os.path.join(folder2, file))\n",
    "\n",
    "# Specify the paths of the two folders to compare\n",
    "folder1_path = \"C:/Users/M/OneDrive - UGent/TWML/yolov7/TIDE/GT_Test_01/\"\n",
    "folder2_path = \"C:/Users/M/OneDrive - UGent/TWML/yolov7/TIDE/Pred_Test_0001/\"\n",
    "\n",
    "# Call the function to compare folders and create empty files\n",
    "compare_and_create_empty_files(folder1_path, folder2_path)\n",
    "\n",
    "print(\"Comparison and empty file creation complete.\")\n"
   ]
  },
  {
   "cell_type": "markdown",
   "metadata": {},
   "source": [
    "# Empty replacement in the predictions"
   ]
  },
  {
   "cell_type": "code",
   "execution_count": 2,
   "metadata": {},
   "outputs": [
    {
     "name": "stdout",
     "output_type": "stream",
     "text": [
      "Created empty file: C:\\Users\\M\\OneDrive - UGent\\TWML\\yolov7\\CP\\challenge_dataset\\test\\pred_cal\\1840.txt\n",
      "Created empty file: C:\\Users\\M\\OneDrive - UGent\\TWML\\yolov7\\CP\\challenge_dataset\\test\\pred_cal\\2075.txt\n",
      "Created empty file: C:\\Users\\M\\OneDrive - UGent\\TWML\\yolov7\\CP\\challenge_dataset\\test\\pred_cal\\2041.txt\n",
      "Created empty file: C:\\Users\\M\\OneDrive - UGent\\TWML\\yolov7\\CP\\challenge_dataset\\test\\pred_cal\\0443.txt\n",
      "Created empty file: C:\\Users\\M\\OneDrive - UGent\\TWML\\yolov7\\CP\\challenge_dataset\\test\\pred_cal\\0163.txt\n",
      "Created empty file: C:\\Users\\M\\OneDrive - UGent\\TWML\\yolov7\\CP\\challenge_dataset\\test\\pred_cal\\1620.txt\n",
      "Created empty file: C:\\Users\\M\\OneDrive - UGent\\TWML\\yolov7\\CP\\challenge_dataset\\test\\pred_cal\\1676.txt\n",
      "Created empty file: C:\\Users\\M\\OneDrive - UGent\\TWML\\yolov7\\CP\\challenge_dataset\\test\\pred_cal\\0629.txt\n",
      "Created empty file: C:\\Users\\M\\OneDrive - UGent\\TWML\\yolov7\\CP\\challenge_dataset\\test\\pred_cal\\0992.txt\n",
      "Created empty file: C:\\Users\\M\\OneDrive - UGent\\TWML\\yolov7\\CP\\challenge_dataset\\test\\pred_cal\\1981.txt\n",
      "Created empty file: C:\\Users\\M\\OneDrive - UGent\\TWML\\yolov7\\CP\\challenge_dataset\\test\\pred_cal\\1295.txt\n",
      "Created empty file: C:\\Users\\M\\OneDrive - UGent\\TWML\\yolov7\\CP\\challenge_dataset\\test\\pred_cal\\1875.txt\n",
      "Created empty file: C:\\Users\\M\\OneDrive - UGent\\TWML\\yolov7\\CP\\challenge_dataset\\test\\pred_cal\\2007.txt\n",
      "Created empty file: C:\\Users\\M\\OneDrive - UGent\\TWML\\yolov7\\CP\\challenge_dataset\\test\\pred_cal\\0948.txt\n",
      "Created empty file: C:\\Users\\M\\OneDrive - UGent\\TWML\\yolov7\\CP\\challenge_dataset\\test\\pred_cal\\1734.txt\n",
      "Created empty file: C:\\Users\\M\\OneDrive - UGent\\TWML\\yolov7\\CP\\challenge_dataset\\test\\pred_cal\\0947.txt\n",
      "Created empty file: C:\\Users\\M\\OneDrive - UGent\\TWML\\yolov7\\CP\\challenge_dataset\\test\\pred_cal\\2057.txt\n",
      "Created empty file: C:\\Users\\M\\OneDrive - UGent\\TWML\\yolov7\\CP\\challenge_dataset\\test\\pred_cal\\0138.txt\n",
      "Created empty file: C:\\Users\\M\\OneDrive - UGent\\TWML\\yolov7\\CP\\challenge_dataset\\test\\pred_cal\\0816.txt\n",
      "Created empty file: C:\\Users\\M\\OneDrive - UGent\\TWML\\yolov7\\CP\\challenge_dataset\\test\\pred_cal\\1362.txt\n",
      "Created empty file: C:\\Users\\M\\OneDrive - UGent\\TWML\\yolov7\\CP\\challenge_dataset\\test\\pred_cal\\0792.txt\n",
      "Created empty file: C:\\Users\\M\\OneDrive - UGent\\TWML\\yolov7\\CP\\challenge_dataset\\test\\pred_cal\\1049.txt\n",
      "Created empty file: C:\\Users\\M\\OneDrive - UGent\\TWML\\yolov7\\CP\\challenge_dataset\\test\\pred_cal\\0741.txt\n",
      "Created empty file: C:\\Users\\M\\OneDrive - UGent\\TWML\\yolov7\\CP\\challenge_dataset\\test\\pred_cal\\0104.txt\n",
      "Created empty file: C:\\Users\\M\\OneDrive - UGent\\TWML\\yolov7\\CP\\challenge_dataset\\test\\pred_cal\\1248.txt\n",
      "Created empty file: C:\\Users\\M\\OneDrive - UGent\\TWML\\yolov7\\CP\\challenge_dataset\\test\\pred_cal\\1365.txt\n",
      "Created empty file: C:\\Users\\M\\OneDrive - UGent\\TWML\\yolov7\\CP\\challenge_dataset\\test\\pred_cal\\1188.txt\n",
      "Created empty file: C:\\Users\\M\\OneDrive - UGent\\TWML\\yolov7\\CP\\challenge_dataset\\test\\pred_cal\\0172.txt\n",
      "Created empty file: C:\\Users\\M\\OneDrive - UGent\\TWML\\yolov7\\CP\\challenge_dataset\\test\\pred_cal\\1265.txt\n",
      "Created empty file: C:\\Users\\M\\OneDrive - UGent\\TWML\\yolov7\\CP\\challenge_dataset\\test\\pred_cal\\1291.txt\n",
      "Created empty file: C:\\Users\\M\\OneDrive - UGent\\TWML\\yolov7\\CP\\challenge_dataset\\test\\pred_cal\\0602.txt\n",
      "Created empty file: C:\\Users\\M\\OneDrive - UGent\\TWML\\yolov7\\CP\\challenge_dataset\\test\\pred_cal\\1398.txt\n",
      "Created empty file: C:\\Users\\M\\OneDrive - UGent\\TWML\\yolov7\\CP\\challenge_dataset\\test\\pred_cal\\0728.txt\n",
      "Created empty file: C:\\Users\\M\\OneDrive - UGent\\TWML\\yolov7\\CP\\challenge_dataset\\test\\pred_cal\\1628.txt\n",
      "Created empty file: C:\\Users\\M\\OneDrive - UGent\\TWML\\yolov7\\CP\\challenge_dataset\\test\\pred_cal\\1690.txt\n",
      "Created empty file: C:\\Users\\M\\OneDrive - UGent\\TWML\\yolov7\\CP\\challenge_dataset\\test\\pred_cal\\1153.txt\n",
      "Comparison and empty file creation complete.\n"
     ]
    }
   ],
   "source": [
    "import os\n",
    "\n",
    "def compare_and_create_empty_files(folder1, folder2):\n",
    "    # Get the list of files in each folder\n",
    "    files1 = set(os.listdir(folder1))\n",
    "    files2 = set(os.listdir(folder2))\n",
    "    \n",
    "    # Find the files present in folder1 but not in folder2\n",
    "    diff_files = files1 - files2\n",
    "    \n",
    "    # Create empty files in folder2 for the different files\n",
    "    for file in diff_files:\n",
    "        with open(os.path.join(folder2, file), 'w'):\n",
    "            pass\n",
    "        print(\"Created empty file:\", os.path.join(folder2, file))\n",
    "\n",
    "# Specify the paths of the two folders to compare\n",
    "folder1_path = r\"C:\\Users\\M\\OneDrive - UGent\\TWML\\yolov7\\CP\\challenge_dataset\\test\\labels\"\n",
    "folder2_path = r\"C:\\Users\\M\\OneDrive - UGent\\TWML\\yolov7\\CP\\challenge_dataset\\test\\pred_cal\"\n",
    "\n",
    "# Call the function to compare folders and create empty files\n",
    "compare_and_create_empty_files(folder1_path, folder2_path)\n",
    "\n",
    "print(\"Comparison and empty file creation complete.\")"
   ]
  },
  {
   "cell_type": "code",
   "execution_count": null,
   "metadata": {},
   "outputs": [],
   "source": []
  }
 ],
 "metadata": {
  "kernelspec": {
   "display_name": "Python 3",
   "language": "python",
   "name": "python3"
  },
  "language_info": {
   "codemirror_mode": {
    "name": "ipython",
    "version": 3
   },
   "file_extension": ".py",
   "mimetype": "text/x-python",
   "name": "python",
   "nbconvert_exporter": "python",
   "pygments_lexer": "ipython3",
   "version": "3.10.11"
  }
 },
 "nbformat": 4,
 "nbformat_minor": 2
}
